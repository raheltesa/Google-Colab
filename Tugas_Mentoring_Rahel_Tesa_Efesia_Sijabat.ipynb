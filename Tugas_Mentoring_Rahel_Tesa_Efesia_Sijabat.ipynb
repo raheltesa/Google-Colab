{
  "nbformat": 4,
  "nbformat_minor": 0,
  "metadata": {
    "colab": {
      "provenance": []
    },
    "kernelspec": {
      "name": "python3",
      "display_name": "Python 3"
    },
    "language_info": {
      "name": "python"
    }
  },
  "cells": [
    {
      "cell_type": "markdown",
      "source": [
        "#🦋 ***Rahel Tesa Efesia Sijabat*** 🦋"
      ],
      "metadata": {
        "id": "QFb4GYMDXbjf"
      }
    },
    {
      "cell_type": "markdown",
      "source": [
        "#Penjelasan program"
      ],
      "metadata": {
        "id": "7mhLxAKH2XEO"
      }
    },
    {
      "cell_type": "markdown",
      "source": [
        "## ini adalah penjelasan dari program yang menggunakan **`contoh_list[i][0] == contoh_list[i][-1]`**\n",
        "\n",
        "*   Indeks 0 digunakan untuk mengakses karakter pertama dalam string \n",
        "*   Indeks -1 digunakan untuk mengakses karakter terakhir dalam string\n",
        "\n"
      ],
      "metadata": {
        "id": "kjPxtFMQ22zc"
      }
    },
    {
      "cell_type": "code",
      "source": [
        "#Program ini untuk menghitung jumlah string yang sama dalam 'contoh_list'\n",
        "count=0     # variabel count untuk menghitung jumlah string yang memenuhi kondisi yang ditentukan\n",
        "contoh_list=['acc', 'xyz', 'aba', '1221']\n",
        "for i in range(len(contoh_list)):\n",
        "    if(contoh_list[i][0] == contoh_list[i][-1]): #indeks 0 digunakan untuk mengakses karakter pertama dalam string dan indeks -1 digunakan untuk mengakses karakter terakhir dalam string\n",
        "        count += 1\n",
        "print('jumlah string yg sama=',count)"
      ],
      "metadata": {
        "colab": {
          "base_uri": "https://localhost:8080/"
        },
        "id": "KbbSCWAB3AwC",
        "outputId": "c0f05b5a-6e8c-4cb3-f812-922ceb4cc94d"
      },
      "execution_count": 22,
      "outputs": [
        {
          "output_type": "stream",
          "name": "stdout",
          "text": [
            "jumlah string yg sama= 2\n"
          ]
        }
      ]
    },
    {
      "cell_type": "markdown",
      "source": [
        "#Program Lainnya"
      ],
      "metadata": {
        "id": "OzdK3KqY5iG8"
      }
    },
    {
      "cell_type": "code",
      "source": [
        "#menghitung banyak data, jumlah(total) dan rata-rata dari bilangan genap 1 sampai 50\n",
        "\n",
        "genap=[x for x in range(1,50) if x %2 == 0]\n",
        "total=sum(genap)\n",
        "banyak_data = len(genap)\n",
        "ratarata=total/len(genap)\n",
        "\n",
        "print(genap)\n",
        "print(total)\n",
        "print(banyak_data)\n",
        "print(ratarata)"
      ],
      "metadata": {
        "id": "Lubus8J6XbMP"
      },
      "execution_count": null,
      "outputs": []
    },
    {
      "cell_type": "code",
      "execution_count": null,
      "metadata": {
        "colab": {
          "base_uri": "https://localhost:8080/"
        },
        "id": "w1Bhl3tvXDIW",
        "outputId": "d0ca0793-ad3c-4c0a-c60d-6299510165ba"
      },
      "outputs": [
        {
          "output_type": "stream",
          "name": "stdout",
          "text": [
            "Masukkan nilai: 3\n",
            "Grade: E\n"
          ]
        }
      ],
      "source": [
        "#menentukan grade dengan menggunakan kondisi if-elif-else\n",
        "\n",
        "nilai = int(input(\"Masukkan nilai: \"))\n",
        "\n",
        "if nilai >= 90:\n",
        "    print(\"Grade: A\")\n",
        "elif nilai >= 80:\n",
        "    print(\"Grade: B\")\n",
        "elif nilai >= 70:\n",
        "    print(\"Grade: C\")\n",
        "elif nilai >= 60:\n",
        "    print(\"Grade: D\")\n",
        "else:\n",
        "    print(\"Grade: E\")"
      ]
    },
    {
      "cell_type": "code",
      "source": [
        "#menentukan grade dengan menginput nilai, program akan berhenti nge run jika mendapatkan grade:E\n",
        "\n",
        "while True:\n",
        "  nilai = int(input(\"masukan nilai anda = \"))\n",
        "  if nilai >= 90:\n",
        "    print(\"Grade: A\")\n",
        "  elif nilai >= 80:\n",
        "    print(\"Grade: B\")\n",
        "  elif nilai >= 70:\n",
        "    print(\"Grade: C\")\n",
        "  elif nilai >= 60:\n",
        "    print(\"Grade: D\")\n",
        "  else:\n",
        "    print(\"Grade: E\")\n",
        "    break"
      ],
      "metadata": {
        "colab": {
          "base_uri": "https://localhost:8080/"
        },
        "id": "HXGEK-qVXx-C",
        "outputId": "733ce5c1-241d-4c8e-e236-cba61cde41b2"
      },
      "execution_count": 26,
      "outputs": [
        {
          "output_type": "stream",
          "name": "stdout",
          "text": [
            "masukan nilai anda = 100\n",
            "Grade: A\n",
            "masukan nilai anda = 2\n",
            "Grade: E\n"
          ]
        }
      ]
    },
    {
      "cell_type": "code",
      "source": [
        "#menebak kode yang benar dengan menggunakan while\n",
        "\n",
        "while True:\n",
        "    kode = 'R9'\n",
        "    terbalik = '9R'\n",
        "    tebakan = input(\"masukkan kode = \")\n",
        "    panjang=len(tebakan)<3\n",
        "    c9=\"9\" in tebakan\n",
        "    cr= \"R\" in tebakan\n",
        "    if panjang!=True:\n",
        "        print(\"kode terdiri dari 1 angka dan 1 huruf\")\n",
        "    elif c9!=True:\n",
        "        print(\"harus mengandung 9 di akhir kode\")\n",
        "    elif cr!=True:\n",
        "        print(\"harus mengandung R di awal kode\")\n",
        "    elif tebakan == terbalik:\n",
        "        print(\"posisi terbalik!\")\n",
        "    else:\n",
        "        print(\"selamat kamu benar ^^\")\n",
        "        break"
      ],
      "metadata": {
        "colab": {
          "base_uri": "https://localhost:8080/"
        },
        "id": "Yttreg9jkHKh",
        "outputId": "3b83622f-e85d-4d1f-86f8-88e16d63b623"
      },
      "execution_count": 25,
      "outputs": [
        {
          "output_type": "stream",
          "name": "stdout",
          "text": [
            "masukkan kode = y\n",
            "harus mengandung 9 di akhir kode\n",
            "masukkan kode = y9\n",
            "harus mengandung R di awal kode\n",
            "masukkan kode = R9\n",
            "selamat kamu benar ^^\n"
          ]
        }
      ]
    },
    {
      "cell_type": "code",
      "source": [
        "def hitung(s):\n",
        "    d={'upper':0,'lower':0}\n",
        "    for x in s:\n",
        "        if x.isupper():\n",
        "            d['upper']+=1\n",
        "        elif x.islower():\n",
        "            d['lower']+=1\n",
        "    print('string kalimat:', s)\n",
        "    print('jumlah huruf kapital:',d['upper'])\n",
        "    print('jumlah huruf kecil',d['lower'])\n",
        "hitung('gaydgahGAUGDAHDIAH')"
      ],
      "metadata": {
        "colab": {
          "base_uri": "https://localhost:8080/"
        },
        "id": "FwbEVZcq2KTp",
        "outputId": "044beb74-61fe-4bb7-ddba-79e6c08a2c50"
      },
      "execution_count": 21,
      "outputs": [
        {
          "output_type": "stream",
          "name": "stdout",
          "text": [
            "string kalimat: gaydgahGAUGDAHDIAH\n",
            "jumlah huruf kapital: 11\n",
            "jumlah huruf kecil 7\n"
          ]
        }
      ]
    },
    {
      "cell_type": "code",
      "source": [
        "while True:\n",
        "    kata =input(\"masukan kata / kalimat = \")\n",
        "    if kata == kata[::-1]: #::-1 agar katanya dibaca dari belakang\n",
        "        print(\"string merupakan palidrom\") #palidorm itu kata yang dibaca dari depan dan dari belakang tetap sama\n",
        "        break\n",
        "    else:\n",
        "        print(\"string bukan palidrom\")"
      ],
      "metadata": {
        "colab": {
          "base_uri": "https://localhost:8080/"
        },
        "id": "WhVUAWoS6HtW",
        "outputId": "afc43e14-a983-494a-d335-18c7c7af41dc"
      },
      "execution_count": 24,
      "outputs": [
        {
          "output_type": "stream",
          "name": "stdout",
          "text": [
            "masukan kata / kalimat = kasur rusak\n",
            "string merupakan palidrom\n"
          ]
        }
      ]
    },
    {
      "cell_type": "code",
      "source": [
        "#Kata ganjil\n",
        "list_kata=[\"kamu\",\"dia\",\"suka\",\"yang\",\"kopi\",\"pertama\",\"hitam\"]\n",
        "for i in list_kata:\n",
        "    if len(i)%2 != 0:\n",
        "        print(i,end=\" \")"
      ],
      "metadata": {
        "colab": {
          "base_uri": "https://localhost:8080/"
        },
        "id": "uYacdV7i0EFI",
        "outputId": "e3a60a33-8150-4ce9-a845-83e33a5d7f2b"
      },
      "execution_count": 18,
      "outputs": [
        {
          "output_type": "stream",
          "name": "stdout",
          "text": [
            "dia pertama hitam "
          ]
        }
      ]
    },
    {
      "cell_type": "code",
      "source": [
        "#Kata genap\n",
        "list_kata=[\"kamu\",\"dia\",\"suka\",\"yang\",\"kopi\",\"pertama\",\"hitam\"]\n",
        "for i in list_kata:\n",
        "    if len(i)%2 == 0:\n",
        "        print(i,end=\" \")"
      ],
      "metadata": {
        "colab": {
          "base_uri": "https://localhost:8080/"
        },
        "id": "FqAaKOgj1Ake",
        "outputId": "2a9fb4e8-51ab-4c75-be53-d49c0d0e812b"
      },
      "execution_count": 20,
      "outputs": [
        {
          "output_type": "stream",
          "name": "stdout",
          "text": [
            "kamu suka yang kopi "
          ]
        }
      ]
    },
    {
      "cell_type": "code",
      "source": [
        "#Program Tambahan ^^\n",
        "# Mencari kata dalam teks\n",
        "\n",
        "teks = input(\"Masukkan teks: \")\n",
        "kata_cari = input(\"Masukkan kata yang ingin dicari: \")\n",
        "\n",
        "kata_array = teks.split()\n",
        "jumlah_kemunculan = 0\n",
        "posisi_kemunculan = []\n",
        "\n",
        "indeks = 0\n",
        "while indeks < len(kata_array):\n",
        "    if kata_array[indeks] == kata_cari:\n",
        "        jumlah_kemunculan += 1\n",
        "        posisi_kemunculan.append(indeks)\n",
        "    indeks += 1\n",
        "\n",
        "if jumlah_kemunculan > 0:\n",
        "    print(\"Kata\", kata_cari, \"ditemukan sebanyak\", jumlah_kemunculan, \"kali.\")\n",
        "    print(\"Posisi kemunculan:\", posisi_kemunculan)\n",
        "else:\n",
        "    print(\"Kata\", kata_cari, \"tidak ditemukan dalam teks.\")"
      ],
      "metadata": {
        "id": "IQZYIDeWl5m8",
        "colab": {
          "base_uri": "https://localhost:8080/"
        },
        "outputId": "9ac09360-9ff3-4734-a1c4-998d83992b12"
      },
      "execution_count": 12,
      "outputs": [
        {
          "output_type": "stream",
          "name": "stdout",
          "text": [
            "Masukkan teks: rahel cantik bangett lohhh\n",
            "Masukkan kata yang ingin dicari: cantik\n",
            "Kata cantik ditemukan sebanyak 1 kali.\n",
            "Posisi kemunculan: [1]\n"
          ]
        }
      ]
    }
  ]
}